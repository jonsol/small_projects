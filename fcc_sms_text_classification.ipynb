{
  "cells": [
    {
      "cell_type": "markdown",
      "metadata": {
        "id": "view-in-github",
        "colab_type": "text"
      },
      "source": [
        "<a href=\"https://colab.research.google.com/github/jonsol/small_projects/blob/master/fcc_sms_text_classification.ipynb\" target=\"_parent\"><img src=\"https://colab.research.google.com/assets/colab-badge.svg\" alt=\"Open In Colab\"/></a>"
      ]
    },
    {
      "cell_type": "code",
      "execution_count": null,
      "metadata": {
        "id": "8RZOuS9LWQvv"
      },
      "outputs": [],
      "source": [
        "# import libraries\n",
        "import tensorflow as tf\n",
        "import pandas as pd\n",
        "from tensorflow.keras.models import Sequential\n",
        "from tensorflow.keras.layers import Embedding, GlobalAveragePooling1D, Dense\n",
        "!pip install tensorflow-datasets\n",
        "import tensorflow_datasets as tfds\n",
        "import numpy as np\n",
        "import matplotlib.pyplot as plt\n",
        "\n",
        "print(tf.__version__)"
      ]
    },
    {
      "cell_type": "code",
      "execution_count": null,
      "metadata": {
        "id": "lMHwYXHXCar3"
      },
      "outputs": [],
      "source": [
        "# get data files\n",
        "!wget https://cdn.freecodecamp.org/project-data/sms/train-data.tsv\n",
        "!wget https://cdn.freecodecamp.org/project-data/sms/valid-data.tsv\n",
        "\n",
        "train_file_path = \"train-data.tsv\"\n",
        "test_file_path = \"valid-data.tsv\""
      ]
    },
    {
      "cell_type": "code",
      "execution_count": null,
      "metadata": {
        "id": "g_h508FEClxO"
      },
      "outputs": [],
      "source": [
        "# To pd dataframe and change labels to numeric\n",
        "train_dataset = pd.read_csv(train_file_path, sep='\\t', header=None, names=['label', 'message'])\n",
        "test_dataset = pd.read_csv(test_file_path, sep='\\t', header=None, names=['label', 'message'])\n",
        "\n",
        "train_dataset['label'] = train_dataset['label'].map({'ham': 0, 'spam': 1})\n",
        "test_dataset['label'] = test_dataset['label'].map({'ham': 0, 'spam': 1})"
      ]
    },
    {
      "cell_type": "code",
      "source": [
        "train_dataset.head()"
      ],
      "metadata": {
        "id": "D6PCq57-NRFv"
      },
      "execution_count": null,
      "outputs": []
    },
    {
      "cell_type": "code",
      "source": [
        "train_labels =  train_dataset[\"label\"].values\n",
        "train_ds = tf.data.Dataset.from_tensor_slices(\n",
        "    (train_dataset[\"message\"].values, train_labels)\n",
        ")\n",
        "\n",
        "test_labels =  test_dataset[\"label\"].values\n",
        "test_ds = tf.data.Dataset.from_tensor_slices(\n",
        "    (test_dataset[\"message\"].values, test_labels)\n",
        ")"
      ],
      "metadata": {
        "id": "_gqmIsYfM5Bn"
      },
      "execution_count": null,
      "outputs": []
    },
    {
      "cell_type": "code",
      "source": [
        "train_dataset.head()"
      ],
      "metadata": {
        "id": "bts84XUTcipv"
      },
      "execution_count": null,
      "outputs": []
    },
    {
      "cell_type": "code",
      "source": [
        "BATCH_SIZE = 128\n",
        "BUFFER_SIZE = 1000\n",
        "\n",
        "train_ds = train_ds.shuffle(BUFFER_SIZE).batch(BATCH_SIZE).prefetch(tf.data.AUTOTUNE)\n",
        "test_ds = test_ds.batch(BATCH_SIZE).prefetch(tf.data.AUTOTUNE)\n",
        "\n",
        "print(\"Batch size:\", BATCH_SIZE)\n",
        "print(\"Buffer size:\", BUFFER_SIZE)"
      ],
      "metadata": {
        "id": "LOA3TxUMOBWO"
      },
      "execution_count": null,
      "outputs": []
    },
    {
      "cell_type": "code",
      "source": [
        "train_ds"
      ],
      "metadata": {
        "id": "zldbs3t-cljy"
      },
      "execution_count": null,
      "outputs": []
    },
    {
      "cell_type": "code",
      "source": [
        "# Text vectorization\n",
        "vec = tf.keras.layers.TextVectorization(\n",
        "    output_mode='int',\n",
        "    max_tokens=2000,\n",
        "    output_sequence_length=500,\n",
        ")\n",
        "\n",
        "vec.adapt(train_ds.map(lambda text, label: text))"
      ],
      "metadata": {
        "id": "PCLwVKtOO9Ay"
      },
      "execution_count": null,
      "outputs": []
    },
    {
      "cell_type": "code",
      "source": [
        "vocab = np.array(vec.get_vocabulary())\n",
        "vocab[:32]"
      ],
      "metadata": {
        "id": "Pp6MDN8waezz"
      },
      "execution_count": null,
      "outputs": []
    },
    {
      "cell_type": "code",
      "source": [
        "# Model\n",
        "model = tf.keras.Sequential([\n",
        "    vec,\n",
        "    tf.keras.layers.Embedding(\n",
        "        len(vec.get_vocabulary()),  # Input dim: size of vocab\n",
        "        64,  # output dim: Dimension of the dense embedding\n",
        "        mask_zero=True,\n",
        "    ),\n",
        "    tf.keras.layers.Bidirectional(tf.keras.layers.LSTM(64,  return_sequences=True)),\n",
        "    tf.keras.layers.Bidirectional(tf.keras.layers.LSTM(32)),\n",
        "    tf.keras.layers.Dense(64, activation='relu'),\n",
        "    tf.keras.layers.Dropout(0.3),\n",
        "    tf.keras.layers.Dense(1)\n",
        "])\n",
        "\n",
        "model.compile(loss=tf.keras.losses.BinaryCrossentropy(from_logits=True), optimizer=tf.keras.optimizers.Adam(1e-4), metrics=['accuracy'])\n",
        "model.summary()"
      ],
      "metadata": {
        "id": "GDQICfuEigif"
      },
      "execution_count": null,
      "outputs": []
    },
    {
      "cell_type": "code",
      "source": [
        "val_steps = int(len(test_dataset)/BATCH_SIZE)\n",
        "val_steps"
      ],
      "metadata": {
        "id": "QgcBIH-AbEi4"
      },
      "execution_count": null,
      "outputs": []
    },
    {
      "cell_type": "code",
      "source": [
        "# Train\n",
        "history = model.fit(train_ds, validation_data=test_ds, validation_steps=val_steps, epochs=10)"
      ],
      "metadata": {
        "id": "dbQucyJIpW9F"
      },
      "execution_count": null,
      "outputs": []
    },
    {
      "cell_type": "code",
      "source": [
        "test_loss, test_acc = model.evaluate(test_ds)\n",
        "\n",
        "print('Test Loss:', test_loss)\n",
        "print('Test Accuracy:', test_acc)"
      ],
      "metadata": {
        "id": "9PRl5aPDnCI2"
      },
      "execution_count": null,
      "outputs": []
    },
    {
      "cell_type": "code",
      "source": [
        "# Added function for\n",
        "def predict_message(model, texts, vectorizer=None):\n",
        "    \"\"\"\n",
        "    Predict probabilities and labels for text input(s) using the given model.\n",
        "\n",
        "    Args:\n",
        "        model: Trained Keras model.\n",
        "        texts: str or list of str / list of tokens.\n",
        "        vectorizer: TextVectorization layer, if used during training (optional).\n",
        "        threshold: Probability threshold to classify as \"spam\" or \"ham\".\n",
        "\n",
        "    Returns:\n",
        "        List of tuples: (probability, label)\n",
        "    \"\"\"\n",
        "    # Ensure input is a list\n",
        "    if isinstance(texts, str) or isinstance(texts, list) and all(isinstance(t, str) for t in texts):\n",
        "        processed_texts = texts if isinstance(texts, list) else [texts]\n",
        "    else:\n",
        "        # Convert list of tokens to strings\n",
        "        processed_texts = [\" \".join(t) if isinstance(t, list) else t for t in texts]\n",
        "\n",
        "    # Convert to tf.Tensor\n",
        "    text_tensor = tf.constant(processed_texts)\n",
        "\n",
        "    # Apply TextVectorization if needed\n",
        "    if vectorizer is not None and not any(isinstance(l, tf.keras.layers.TextVectorization) for l in model.layers):\n",
        "        text_tensor = vectorizer(text_tensor)\n",
        "\n",
        "    # Predict\n",
        "    logits = model.predict(text_tensor)\n",
        "    probs = tf.sigmoid(logits).numpy().flatten()\n",
        "\n",
        "    # Assign labels based on threshold\n",
        "    prediction = []\n",
        "    for prob in probs:\n",
        "        label = \"spam\" if prob >= 0.5 else \"ham\"\n",
        "        prediction.append((float(prob), label))\n",
        "\n",
        "    return prediction"
      ],
      "metadata": {
        "id": "-8Bd6XHZnSUI"
      },
      "execution_count": null,
      "outputs": []
    },
    {
      "cell_type": "code",
      "source": [
        "# function to predict messages based on model\n",
        "# (should return list containing prediction and label, ex. [0.008318834938108921, 'ham'])\n",
        "def predict_message(model, texts, vectorizer=None):\n",
        "    \"\"\"\n",
        "    Predict labels for text input(s) using the given model.\n",
        "\n",
        "    Args:\n",
        "        model: Trained Keras model.\n",
        "        texts: str or list of str / list of tokens.\n",
        "        vectorizer: TextVectorization layer, if used during training (optional).\n",
        "        threshold: Probability threshold to classify as \"spam\" or \"ham\".\n",
        "\n",
        "    Returns:\n",
        "        - Single tuple (probability, label) if input is a single string\n",
        "        - List of tuples [(probability, label), ...] if input is a list of strings\n",
        "    \"\"\"\n",
        "    # Determine if input is a single string\n",
        "    single_input = False\n",
        "    if isinstance(texts, str):\n",
        "        texts = [texts]\n",
        "        single_input = True\n",
        "    elif isinstance(texts, list) and all(isinstance(t, str) for t in texts):\n",
        "        pass\n",
        "    else:\n",
        "        # Convert list of tokens to strings\n",
        "        texts = [\" \".join(t) if isinstance(t, list) else t for t in texts]\n",
        "\n",
        "    # Convert to tf.Tensor\n",
        "    text_tensor = tf.constant(texts)\n",
        "\n",
        "    # Apply TextVectorization if needed\n",
        "    if vectorizer is not None and not any(isinstance(l, tf.keras.layers.TextVectorization) for l in model.layers):\n",
        "        text_tensor = vectorizer(text_tensor)\n",
        "\n",
        "    # Predict\n",
        "    logits = model.predict(text_tensor)\n",
        "    probs = tf.sigmoid(logits).numpy().flatten()\n",
        "\n",
        "    # Assign labels and cast probabilities to Python float\n",
        "    prediction = [(float(prob), \"spam\" if prob >= 0.5 else \"ham\") for prob in probs]\n",
        "\n",
        "    # Return single tuple if single input\n",
        "    return prediction[0] if single_input else prediction"
      ],
      "metadata": {
        "id": "Vf8ayASG2Mgp"
      },
      "execution_count": null,
      "outputs": []
    },
    {
      "cell_type": "code",
      "source": [
        "text = 'How are you doing today?'\n",
        "prob = predict_message(model,text)\n",
        "print(prob)"
      ],
      "metadata": {
        "id": "fAS_P0IpwO3p"
      },
      "execution_count": null,
      "outputs": []
    },
    {
      "cell_type": "code",
      "execution_count": null,
      "metadata": {
        "id": "Dxotov85SjsC"
      },
      "outputs": [],
      "source": [
        "# Run this cell to test your function and model. Do not modify contents.\n",
        "def test_predictions():\n",
        "  test_messages = [\"how are you doing today\",\n",
        "                   \"sale today! to stop texts call 98912460324\",\n",
        "                   \"i dont want to go. can we try it a different day? available sat\",\n",
        "                   \"our new mobile video service is live. just install on your phone to start watching.\",\n",
        "                   \"you have won £1000 cash! call to claim your prize.\",\n",
        "                   \"i'll bring it tomorrow. don't forget the milk.\",\n",
        "                   \"wow, is your arm alright. that happened to me one time too\"\n",
        "                  ]\n",
        "\n",
        "  test_answers = [\"ham\", \"spam\", \"ham\", \"spam\", \"spam\", \"ham\", \"ham\"]\n",
        "  passed = True\n",
        "\n",
        "  for msg, ans in zip(test_messages, test_answers):\n",
        "    prediction = predict_message(model, msg)\n",
        "    if prediction[1] != ans:\n",
        "      passed = False\n",
        "\n",
        "  if passed:\n",
        "    print(\"You passed the challenge. Great job!\")\n",
        "  else:\n",
        "    print(\"You haven't passed yet. Keep trying.\")\n",
        "\n",
        "test_predictions()\n"
      ]
    }
  ],
  "metadata": {
    "colab": {
      "name": "fcc_sms_text_classification.ipynb",
      "private_outputs": true,
      "provenance": [],
      "include_colab_link": true
    },
    "kernelspec": {
      "display_name": "Python 3",
      "name": "python3"
    },
    "language_info": {}
  },
  "nbformat": 4,
  "nbformat_minor": 0
}